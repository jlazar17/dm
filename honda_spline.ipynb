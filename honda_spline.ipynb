{
 "cells": [
  {
   "cell_type": "code",
   "execution_count": 14,
   "metadata": {
    "collapsed": false
   },
   "outputs": [],
   "source": [
    "import numpy as np\n",
    "\n",
    "from icecube.photospline.glam import glam as glm\n",
    "from icecube.photospline.glam.glam import grideval\n",
    "from icecube.photospline import splinefitstable\n",
    "\n",
    "import matplotlib.pyplot as plt\n",
    "%matplotlib inline"
   ]
  },
  {
   "cell_type": "code",
   "execution_count": 15,
   "metadata": {
    "collapsed": false
   },
   "outputs": [
    {
     "data": {
      "image/png": "[encoded data removed]",
      "text/plain": [
       "<matplotlib.figure.Figure at 0x7fbeedb98950>"
      ]
     },
     "metadata": {},
     "output_type": "display_data"
    }
   ],
   "source": [
    "def y(x):\n",
    "    return (3*x**2)\n",
    "\n",
    "xAxis = np.linspace(0,3,500)\n",
    "yAxis = []\n",
    "for x, val in enumerate(xAxis):\n",
    "    yAxis.append(y(val))\n",
    "    \n",
    "plt.plot(xAxis,yAxis)\n",
    "plt.grid()\n",
    "plt.show()\n",
    "plt.close()"
   ]
  },
  {
   "cell_type": "code",
   "execution_count": 16,
   "metadata": {
    "collapsed": false
   },
   "outputs": [
    {
     "name": "stdout",
     "output_type": "stream",
     "text": [
      "Calculating spline basis...\n",
      "Calculating penalty matrix...\n",
      "Reticulating splines...\n",
      "\tProcessing dimension 0\n",
      "Computing iteration 1 least squares solution...\n"
     ]
    }
   ],
   "source": [
    "weight = np.ones(np.asarray(yAxis).shape)\n",
    "order = 2\n",
    "smooth = 1e-6\n",
    "xKnot = np.linspace(xAxis.min()-.01,xAxis.max()+.01, 50, endpoint=True)\n",
    "knots = [xKnot]\n",
    "result = glm.fit(np.asarray(yAxis),weight,[xAxis],knots,order,smooth)"
   ]
  },
  {
   "cell_type": "code",
   "execution_count": 17,
   "metadata": {
    "collapsed": false
   },
   "outputs": [],
   "source": [
    "def loadHonda(filename):\n",
    "    costh, E, kaon_nue, kaon_nuebar, \\\n",
    "    kaon_numu, kaon_numubar, \\\n",
    "    pion_nue, pion_nuebar, \\\n",
    "    pion_numu, pion_numubar, \\\n",
    "    = np.loadtxt(filename,comments='#',usecols=(0,1,2,3,4,5,6,7,8,9), unpack=True)\n",
    "    \n",
    "    array = np.recarray(len(costh), [('cos_theta', float),\n",
    "                                     ('energy', float), # in units of GeV\n",
    "                                     ('kaon_nu_e', float), # in units of ????\n",
    "                                     ('kaon_nu_e_bar', float),\n",
    "                                     ('kaon_nu_mu', float),\n",
    "                                     ('kaon_nu_mu_bar', float),\n",
    "                                     ('pion_nu_e', float),\n",
    "                                     ('pion_nu_e_bar', float),\n",
    "                                     ('pion_nu_mu', float),\n",
    "                                     ('pion_nu_mu_bar', float)])\n",
    "    array.cos_theta[:] = costh\n",
    "    array.energy[:] = E\n",
    "    array.kaon_nu_e[:], array.kaon_nu_e_bar[:] = kaon_nue, kaon_nuebar\n",
    "    array.kaon_nu_mu[:], array.kaon_nu_mu_bar[:] = kaon_numu, kaon_numubar\n",
    "    array.pion_nu_e[:], array.pion_nu_e_bar[:] = pion_nue, pion_nuebar\n",
    "    array.pion_nu_mu[:], array.pion_nu_mu_bar[:] = pion_numu, pion_numubar\n",
    "    \n",
    "    return array\n",
    "\n",
    "path      = '/data/user/jlazar/data/analysis/'\n",
    "hondaFile = 'honda_all.txt'\n",
    "hondaData = loadHonda(path + hondaFile)"
   ]
  },
  {
   "cell_type": "code",
   "execution_count": 18,
   "metadata": {
    "collapsed": false
   },
   "outputs": [],
   "source": [
    "def makeFluxMatrix(flux,energy,cosTheta):\n",
    "    dim1  = len(energy)\n",
    "    dim2  = len(cosTheta)\n",
    "    assert len(flux) == dim1*dim2\n",
    "    mat   = np.zeros(shape=(dim1,dim2))\n",
    "    for i in range(dim2):\n",
    "        for j in range(dim1):\n",
    "            mat[j][i] = flux[i*dim1 + j]\n",
    "    return mat\n",
    "\n",
    "def findFlux(matrix,en,c):\n",
    "    return matrix[np.where(e==en),np.where(c==costh)]"
   ]
  },
  {
   "cell_type": "code",
   "execution_count": 24,
   "metadata": {
    "collapsed": false
   },
   "outputs": [],
   "source": [
    "def spline(flux, energy, cosTheta, order=2, smooth=1, w=None):\n",
    "    mat = makeFluxMatrix(flux, energy, cosTheta)\n",
    "    if w == None:\n",
    "        w = np.ones(mat.shape)\n",
    "    result = glm.fit(mat, w, [e,cosTh], knots, order, smooth)\n",
    "    return result"
   ]
  },
  {
   "cell_type": "code",
   "execution_count": 39,
   "metadata": {
    "collapsed": false
   },
   "outputs": [],
   "source": [
    "muFluxes = ['kaon_nu_mu', 'kaon_nu_mu_bar', 'pion_nu_mu', 'pion_nu_mu_bar']\n",
    "\n",
    "e         = hondaData.energy[:72]\n",
    "cosTh     = np.linspace(-1,1,201)\n",
    "knots     = [np.linspace(e[0],e[-1],50),np.linspace(cosTh[0],cosTh[-1],100)]\n",
    "\n",
    "numPts    = 10000\n",
    "eFine     = np.linspace(e[0],e[-1],numPts)\n",
    "cosThFine = np.linspace(cosTh[0],cosTh[-1],numPts)"
   ]
  },
  {
   "cell_type": "code",
   "execution_count": 40,
   "metadata": {
    "collapsed": false
   },
   "outputs": [],
   "source": [
    "#results   = []\n",
    "\n",
    "#for f in muFluxes:\n",
    "#    results.append(spline(hondaData[f],e,cosTh))"
   ]
  },
  {
   "cell_type": "code",
   "execution_count": 42,
   "metadata": {
    "collapsed": false
   },
   "outputs": [],
   "source": [
    "#plt.imshow(np.log(grideval(results[0],[eFine,cosThFine])))\n",
    "#plt.colorbar()\n",
    "#plt.show()\n",
    "#plt.imshow(np.log10(makeFluxMatrix(hondaData[muFluxes[0]],e,cosTh)),extent=[-1,1,np.log10(8.83423e+09),np.log10(57.6011)],aspect='equal')\n",
    "#plt.colorbar()\n",
    "#plt.show()"
   ]
  },
  {
   "cell_type": "code",
   "execution_count": 45,
   "metadata": {
    "collapsed": false
   },
   "outputs": [
    {
     "name": "stdout",
     "output_type": "stream",
     "text": [
      "[  5.76011000e+01   8.83568946e+05   1.76708029e+06 ...,   8.83246298e+09\n",
      "   8.83334649e+09   8.83423000e+09]\n"
     ]
    }
   ],
   "source": [
    "#toy = grideval(results[0],[eFine,cosThFine])\n",
    "print(eFine)"
   ]
  },
  {
   "cell_type": "code",
   "execution_count": 56,
   "metadata": {
    "collapsed": false
   },
   "outputs": [
    {
     "data": {
      "text/plain": [
       "-3.1252539674107724e-19"
      ]
     },
     "execution_count": 56,
     "metadata": {},
     "output_type": "execute_result"
    }
   ],
   "source": [
    "toy[5000][3000]"
   ]
  },
  {
   "cell_type": "code",
   "execution_count": 57,
   "metadata": {
    "collapsed": false
   },
   "outputs": [
    {
     "ename": "ImportError",
     "evalue": "No module named astropy.time",
     "output_type": "error",
     "traceback": [
      "\u001b[1;31m---------------------------------------------------------------------------\u001b[0m",
      "\u001b[1;31mImportError\u001b[0m                               Traceback (most recent call last)",
      "\u001b[1;32m<ipython-input-57-388419f2a22a>\u001b[0m in \u001b[0;36m<module>\u001b[1;34m()\u001b[0m\n\u001b[1;32m----> 1\u001b[1;33m \u001b[1;32mimport\u001b[0m \u001b[0mastropy\u001b[0m\u001b[1;33m.\u001b[0m\u001b[0mtime\u001b[0m\u001b[1;33m\u001b[0m\u001b[0m\n\u001b[0m",
      "\u001b[1;31mImportError\u001b[0m: No module named astropy.time"
     ]
    }
   ],
   "source": [
    "import astropy.time"
   ]
  },
  {
   "cell_type": "code",
   "execution_count": null,
   "metadata": {
    "collapsed": true
   },
   "outputs": [],
   "source": []
  }
 ],
 "metadata": {
  "kernelspec": {
   "display_name": "Python 2",
   "language": "python",
   "name": "python2"
  },
  "language_info": {
   "codemirror_mode": {
    "name": "ipython",
    "version": 2
   },
   "file_extension": ".py",
   "mimetype": "text/x-python",
   "name": "python",
   "nbconvert_exporter": "python",
   "pygments_lexer": "ipython2",
   "version": "2.7.10"
  }
 },
 "nbformat": 4,
 "nbformat_minor": 0
}

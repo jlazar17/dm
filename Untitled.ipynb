{
 "cells": [
  {
   "cell_type": "code",
   "execution_count": 124,
   "metadata": {
    "collapsed": false
   },
   "outputs": [],
   "source": [
    "import numpy as np\n",
    "import scipy.integrate as integrate\n",
    "import matplotlib.pyplot as plt\n",
    "%matplotlib inline\n",
    "import neutrinocommon\n",
    "import neutrinocommon.neu.xsections as xs\n",
    "import neutrinocommon.physconst.physicsconstants as PC\n",
    "import neutrinocommon.neu.neuosc as no\n",
    "import neutrinocommon.astro.body as bd\n",
    "import neutrinocommon.exp.icecube as ice\n",
    "import neutrinocommon.tools.generaltools as gt"
   ]
  },
  {
   "cell_type": "code",
   "execution_count": 125,
   "metadata": {
    "collapsed": true
   },
   "outputs": [],
   "source": [
    "# Julian dates for Jul. 20 2018 and Jul. 20 2019\n",
    "JDn      = 2458319.5\n",
    "JDt      = 2458684.5\n",
    "\n",
    "pc       = PC.PhysicsConstants()\n",
    "degToRad = np.pi / 180.\n",
    "auToCm   = 1.496e13"
   ]
  },
  {
   "cell_type": "code",
   "execution_count": 126,
   "metadata": {
    "collapsed": true
   },
   "outputs": [],
   "source": [
    "# calculating sun's distance from earth based on https://en.wikipedia.org/wiki/Position_of_the_Sun#Ecliptic_coordinates\n",
    "def n(JD):\n",
    "    return JD - 2451545.\n",
    "\n",
    "def g(x):\n",
    "    return (557.528 + 0.9856003*x) * degToRad\n",
    "\n",
    "def solarR(JD):\n",
    "    x = n(JD)\n",
    "    y = g(x)\n",
    "    return (1.00014 - 0.01671*np.cos(y) - 0.00014*np.cos(2*y))*auToCm"
   ]
  },
  {
   "cell_type": "code",
   "execution_count": 127,
   "metadata": {
    "collapsed": false
   },
   "outputs": [
    {
     "data": {
      "image/png": "[encoded data removed]",
      "text/plain": [
       "<matplotlib.figure.Figure at 0x7f3ef05bdc10>"
      ]
     },
     "metadata": {},
     "output_type": "display_data"
    }
   ],
   "source": [
    "oneYear = np.linspace(JDn,JDt,365*10+1)\n",
    "radii   = solarR(oneYear)\n",
    "au      = [auToCm for i in range(len(oneYear))]\n",
    "plt.plot(oneYear,radii)\n",
    "plt.plot(oneYear,au)\n",
    "plt.show()"
   ]
  },
  {
   "cell_type": "code",
   "execution_count": 128,
   "metadata": {
    "collapsed": true
   },
   "outputs": [],
   "source": [
    "def NeuOsc3gVacuum(a,b,E,L,param):\n",
    "    \"\"\" Formalae for standard 3-flavor neutrino oscillation\n",
    "    # FUNDAMENTALS OF NEUTRINO PHYSICS GIUNTI pag. 252\n",
    "    #       E       : neutrino energy       [eV]\n",
    "    #       L       : distance              [eV^-1]\n",
    "    #       a       : initial neutrino flavor (0 : e, 1 : mu, 2 : tau)\n",
    "    #       b       : final neutrino flavor (0 : e, 1 : mu, 2 : tau)\n",
    "    \"\"\"\n",
    "    param.Refresh()\n",
    "    PMNS = no.MixMatrix(param)\n",
    "    U = PMNS.U\n",
    "    UCT = PMNS.UCT\n",
    "    rt,it =[],[]\n",
    "    [[ rt.append(np.real(UCT[k,a]*U[b,k]*U[a,j]*UCT[j,b])*np.sin(param.dm2[j+1,k+1]*L/(4.0*E))**2)  for k in range(param.numneu) if k>j] for j in range(param.numneu)]\n",
    "    [[ it.append(np.imag(UCT[k,a]*U[b,k]*U[a,j]*UCT[j,b])*np.sin(param.dm2[j+1,k+1]*L/(2.0*E)))     for k in range(param.numneu) if k>j] for j in range(param.numneu)]\n",
    "    \n",
    "    if a == b:\n",
    "        return 1.0 - 4.0*np.sum(rt) + 2.0*np.sum(it)\n",
    "    else:\n",
    "        return 0.0 - 4.0*np.sum(rt) + 2.0*np.sum(it)"
   ]
  },
  {
   "cell_type": "code",
   "execution_count": 129,
   "metadata": {
    "collapsed": true
   },
   "outputs": [],
   "source": [
    "def NeuOsc3gFromSun(a,b,E,JD,param):\n",
    "    \"\"\" Formalae for standard 3-flavor neutrino oscillation\n",
    "    # FUNDAMENTALS OF NEUTRINO PHYSICS GIUNTI pag. 252\n",
    "    #       E       : neutrino energy       [eV]\n",
    "    #       L       : Julian Data\n",
    "    #       a       : initial neutrino flavor (0 : e, 1 : mu, 2 : tau)\n",
    "    #       b       : final neutrino flavor (0 : e, 1 : mu, 2 : tau)\n",
    "    \"\"\"\n",
    "    L = solarR(JD)*pc.cm\n",
    "    return NeuOsc3gVacuum(a,b,E,L,param)"
   ]
  },
  {
   "cell_type": "code",
   "execution_count": 171,
   "metadata": {
    "collapsed": false
   },
   "outputs": [],
   "source": [
    "def avgOsc(E,param):\n",
    "    \"\"\"Formula to average out different distance from sun to earth over course of a year\n",
    "    ref: Solar Atmospheric Neutrinos and the Sensitivity Floor for Solar Dark Matter Annihilation Searches\n",
    "    ArXiV: 1703.07798; eq. 3.3\n",
    "    @type  E        : float\n",
    "    @param E        : neutrino energy       [eV]\n",
    "    \"\"\"\n",
    "    yearStart  = JDn\n",
    "    yearEnd    = JDt\n",
    "    numNeu     = 3\n",
    "    probMatrix = np.zeros((numNeu,numNeu))\n",
    "    for i in range(numNeu):\n",
    "        for j in range(numNeu):\n",
    "            result          = integrate.quad(lambda t: NeuOsc3gFromSun(i,j,E,t,param),yearStart,yearEnd,epsrel=1.e-9,limit=4000)\n",
    "            if result[1] / result[0] > 1.e-3:\n",
    "                print('e =' + str(E)+ ', i,j='+str(i)+','+str(j)+'has rel error:'+str(result[1] / result[0]))\n",
    "            probMatrix[i,j] = result[0]/(yearEnd-yearStart)\n",
    "    print('bing!')\n",
    "    return probMatrix"
   ]
  },
  {
   "cell_type": "code",
   "execution_count": 172,
   "metadata": {
    "collapsed": false
   },
   "outputs": [],
   "source": [
    "ch_wimpsim      = {'dd':1,'uu':2,'ss':3,'cc':4,'bb':5,'tt':5,'gg':7,'WW':8,'ZZ':9,'mumu':10,'tautau':11,'nuenue':12,'numunumu':13,'nutaunutau':14}\n",
    "nu_wimpsim      = {'nu_e':0, 'nu_mu':1, 'nu_tau':2, 'nu_e_bar':3, 'nu_mu_bar':4, 'nu_tau_bar':5 }\n",
    "WIMPSimDataPath = '/data/user/jlazar/data/solarWIMP/data/sun/'\n",
    "validSurfaces   = ['sunCore', 'sunSurface', 'earthSurface']\n",
    "radii           = {'sunCore':1.e6,'sunSurface':6.957e10,'earthSurface':1.496e13}\n",
    "plotOutPath     = '/data/user/jlazar/data/solarWIMP/plots/sun/'\n",
    "\n",
    "def makeWIMPSimString(dmMass,ch):\n",
    "    return 'wa-m'+str(dmMass)+'-ch'+str(ch_wimpsim[ch])+'-sun-sum.dat'\n",
    "\n",
    "def getdNdZ(dmMass, ch, surface):\n",
    "    assert surface in validSurfaces\n",
    "    f    = WIMPSimDataPath + makeWIMPSimString(dmMass,ch)\n",
    "    data = np.loadtxt(f,comments='#')\n",
    "    if surface=='sunSurface':\n",
    "        data = data[6:]\n",
    "    elif surface=='earthSurface':\n",
    "        data = data[12:]\n",
    "    return data[:6]"
   ]
  },
  {
   "cell_type": "code",
   "execution_count": 173,
   "metadata": {
    "collapsed": false
   },
   "outputs": [],
   "source": [
    "dataPath = '/data/user/jlazar/data/solarWIMP/data/sun/'\n",
    "\n",
    "def propToEarth(dmMass,ch,param,save=False):\n",
    "    dNdZ     = getdNdZ(dmMass, ch, 'sunSurface')[:3,:].transpose()\n",
    "    e        = np.linspace(0,1,len(dNdZ))*dmMass\n",
    "    propData = np.zeros(dNdZ.shape)\n",
    "    for i in range(len(e)):\n",
    "        pMat        = avgOsc(e[i]*pc.GeV,param)\n",
    "        propData[i] = np.dot(pMat,dNdZ[i])\n",
    "    propdNdZNu  = propData[:,:3].transpose()\n",
    "    #propdNdZNuBar = propData[3:6,:]\n",
    "    if save:\n",
    "        np.save(dataPath+'wa-m'+str(m)+'-'+str(ch_wimpsim[ch])+'-avg_osc',propdNdZNu)\n",
    "    return propdNdZNu"
   ]
  },
  {
   "cell_type": "code",
   "execution_count": 174,
   "metadata": {
    "collapsed": false
   },
   "outputs": [],
   "source": [
    "def makePlotFromWimpSim(dmMass,channels,surface,param,save=False):\n",
    "    assert surface in validSurfaces\n",
    "    r2 = radii[surface]**2\n",
    "    for c in channels:\n",
    "        data       = propToEarth(dmMass, c, param, save=save)\n",
    "        nudNdZ     = data[nu_wimpsim['nu_mu']]\n",
    "        #nuBardnNdZ = data[3] + data[4] + data[5]\n",
    "        z          = np.linspace(0,1,len(nudNdZ))\n",
    "        p = plt.plot(z,nudNdZ/(dmMass),label=c)\n",
    "        #plt.plot(z,nuBardnNdZ/(4*np.pi*r2),p[0].get_color()+'--')\n",
    "    plt.ylabel(r'$\\frac{dN}{dE}$ $\\left(ann^{-1}GeV^{-1}\\right)$')\n",
    "    plt.xlabel(r'z=$\\frac{E_{\\nu}}{m_{\\chi}}$')\n",
    "    plt.semilogy()\n",
    "    plt.legend(loc='best', fancybox=True, framealpha=0.5)\n",
    "    plt.title('Differential flux at '+ surface+' m='+str(dmMass)+' GeV')\n",
    "    if save:\n",
    "        plt.savefig(plotOutPath+'DIY-wa-m'+str(dmMass)+'-'+surface+'-sun-sum.png')\n",
    "    plt.show()"
   ]
  },
  {
   "cell_type": "code",
   "execution_count": null,
   "metadata": {
    "collapsed": false
   },
   "outputs": [],
   "source": [
    "ms = [100,1000,10000]\n",
    "chans  = ['bb','tautau','WW']\n",
    "\n",
    "for m in ms:\n",
    "    makePlotFromWimpSim(m,chans,'earthSurface',pc,save=True)"
   ]
  },
  {
   "cell_type": "code",
   "execution_count": 122,
   "metadata": {
    "collapsed": false
   },
   "outputs": [],
   "source": [
    "def loadFlux(mass):\n",
    "    f = 'wa-m'+str(mass)+'-avg_osc.npy'\n",
    "    return np.load(dataPath + f)\n",
    "\n",
    "d100 = loadFlux(100)"
   ]
  },
  {
   "cell_type": "code",
   "execution_count": null,
   "metadata": {
    "collapsed": false
   },
   "outputs": [],
   "source": []
  },
  {
   "cell_type": "code",
   "execution_count": null,
   "metadata": {
    "collapsed": false
   },
   "outputs": [],
   "source": []
  },
  {
   "cell_type": "code",
   "execution_count": null,
   "metadata": {
    "collapsed": false
   },
   "outputs": [],
   "source": [
    "s             = 'earthSurface'\n",
    "data          = getdNdZ(10000, 'bb', s)\n",
    "nudNdZbb      = data[0] + data[1] + data[2]\n",
    "data          = getdNdZ(10000, 'tautau', s)\n",
    "nudNdZtautau  = data[0] + data[1] + data[2]\n",
    "data          = getdNdZ(10000, 'WW', s)\n",
    "nudNdZww      = data[0] + data[1] + data[2]\n",
    "data          = np.load(dataPath + 'wa-m10000-5-avg_osc.npy')\n",
    "diydNdZbb     = data[0] + data[1] + data[2]\n",
    "data          = np.load(dataPath + 'wa-m10000-11-avg_osc.npy')\n",
    "diydNdZtautau = data[0] + data[1] + data[2]\n",
    "data          = np.load(dataPath + 'wa-m10000-8-avg_osc.npy')\n",
    "diydNdZww     = data[0] + data[1] + data[2]\n",
    "p = plt.plot(z,nudNdZbb/(4*np.pi*radii[s]**2*10000),label='WIMPSim bb')\n",
    "q = plt.plot(z,nudNdZtautau/(4*np.pi*radii[s]**2*10000),label='WIMPSim tautau')\n",
    "r = plt.plot(z,nudNdZww/(4*np.pi*radii[s]**2*10000),label='WIMPSim WW')\n",
    "plt.plot(z,diydNdZbb/(4*np.pi*radii[s]**2*10000),p[0].get_color()+'--',label='osc avg. bb')\n",
    "plt.plot(z,diydNdZtautau/(4*np.pi*radii[s]**2*10000),q[0].get_color()+'--',label='osc avg. tautau')\n",
    "plt.plot(z,diydNdZww/(4*np.pi*radii[s]**2*10000),r[0].get_color()+'--',label='osc avg. WW')\n",
    "plt.ylabel(r'$\\frac{dN}{dz}$ $\\left(ann^{-1}cm^{-2}GeV^{-1}\\right)$')\n",
    "plt.xlabel(r'z=$\\frac{E_{\\nu}}{m_{\\chi}}$')\n",
    "plt.semilogy()\n",
    "plt.xlim((0,0.2))\n",
    "plt.legend(loc='best', fancybox=True, framealpha=0.5)\n",
    "plt.title('Differential flux at '+ s+' m='+str(10000)+' GeV')\n",
    "plt.savefig(plotOutPath+'WIMPSim_avg_osc_comp-m10000')\n",
    "plt.show()"
   ]
  },
  {
   "cell_type": "code",
   "execution_count": null,
   "metadata": {
    "collapsed": false
   },
   "outputs": [],
   "source": [
    "def compPlot(dmMass,channels,surface,save=False):\n",
    "    r2 = radii[surface]**2\n",
    "    for c in channels:\n",
    "        data        = getdNdZ(dmMass, 'bb', s)\n",
    "        nudNdZ      = data[0] + data[1] + data[2]\n",
    "        data        = np.load(dataPath + 'wa-m'+str(dmMass)+'-'+str(ch_wimpsim[c])+'-avg_osc.npy')\n",
    "        avgoscdNdZ  = data[0] + data[1] + data[2]\n",
    "        p = plt.plot(z,nudNdZbb/(dmMass),label='WIMPSim'+c)\n",
    "        plt.plot(z,diydNdZbb/(dmMass),p[0].get_color()+'--',label='osc avg.'+c)\n",
    "    plt.ylabel(r'$\\frac{dN}{dz}$ $\\left(ann^{-1}GeV^{-1}\\right)$')\n",
    "    plt.xlabel(r'z=$\\frac{E_{\\nu}}{m_{\\chi}}$')\n",
    "    plt.semilogy()\n",
    "    plt.legend(loc='best', fancybox=True, framealpha=0.5)\n",
    "    plt.title('Differential flux at '+ s+' m='+str(dmMass)+' GeV')\n",
    "    if save:\n",
    "        plt.savefig(plotOutPath+'WIMPSim_avg_osc_comp-m'+str(dmMass))\n",
    "    plt.show()"
   ]
  },
  {
   "cell_type": "code",
   "execution_count": null,
   "metadata": {
    "collapsed": false
   },
   "outputs": [],
   "source": [
    "ms = [100,1000,10000]\n",
    "chans  = ['bb','tautau','WW']\n",
    "\n",
    "for m in ms:\n",
    "    compPlot(m,chans,'earthSurface',save=False)"
   ]
  },
  {
   "cell_type": "code",
   "execution_count": null,
   "metadata": {
    "collapsed": true
   },
   "outputs": [],
   "source": [
    "def makeWIMPSimString(dmMass,ch):\n",
    "    \n",
    "    return 'wa-m'+str(dmMass)+'-ch'+str(ch_wimpsim[ch])+'-sun-sum.dat'"
   ]
  },
  {
   "cell_type": "markdown",
   "metadata": {},
   "source": []
  }
 ],
 "metadata": {
  "kernelspec": {
   "display_name": "Python 2",
   "language": "python",
   "name": "python2"
  },
  "language_info": {
   "codemirror_mode": {
    "name": "ipython",
    "version": 2
   },
   "file_extension": ".py",
   "mimetype": "text/x-python",
   "name": "python",
   "nbconvert_exporter": "python",
   "pygments_lexer": "ipython2",
   "version": "2.7.10"
  }
 },
 "nbformat": 4,
 "nbformat_minor": 0
}
